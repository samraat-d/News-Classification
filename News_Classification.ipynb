{
  "nbformat": 4,
  "nbformat_minor": 0,
  "metadata": {
    "colab": {
      "provenance": [],
      "authorship_tag": "ABX9TyOBaX3Ycq9/K/SgTLUE7fgM",
      "include_colab_link": true
    },
    "kernelspec": {
      "name": "python3",
      "display_name": "Python 3"
    },
    "language_info": {
      "name": "python"
    }
  },
  "cells": [
    {
      "cell_type": "markdown",
      "metadata": {
        "id": "view-in-github",
        "colab_type": "text"
      },
      "source": [
        "<a href=\"https://colab.research.google.com/github/samraat-d/News-Classification/blob/main/News_Classification.ipynb\" target=\"_parent\"><img src=\"https://colab.research.google.com/assets/colab-badge.svg\" alt=\"Open In Colab\"/></a>"
      ]
    },
    {
      "cell_type": "code",
      "execution_count": 1,
      "metadata": {
        "id": "5nZL54X3j-ly",
        "colab": {
          "base_uri": "https://localhost:8080/"
        },
        "outputId": "9be78904-c608-4c3d-ee19-c591fcbefa78"
      },
      "outputs": [
        {
          "output_type": "stream",
          "name": "stdout",
          "text": [
            "Mounted at /content/drive\n"
          ]
        }
      ],
      "source": [
        "from google.colab import drive\n",
        "drive.mount('/content/drive')"
      ]
    },
    {
      "cell_type": "code",
      "source": [
        "!pip install nltk"
      ],
      "metadata": {
        "colab": {
          "base_uri": "https://localhost:8080/"
        },
        "id": "NvvyPlL7WXaf",
        "outputId": "e46e593f-2b9c-4179-b66d-6d5bb002416a"
      },
      "execution_count": 2,
      "outputs": [
        {
          "output_type": "stream",
          "name": "stdout",
          "text": [
            "Requirement already satisfied: nltk in /usr/local/lib/python3.10/dist-packages (3.8.1)\n",
            "Requirement already satisfied: click in /usr/local/lib/python3.10/dist-packages (from nltk) (8.1.7)\n",
            "Requirement already satisfied: joblib in /usr/local/lib/python3.10/dist-packages (from nltk) (1.4.2)\n",
            "Requirement already satisfied: regex>=2021.8.3 in /usr/local/lib/python3.10/dist-packages (from nltk) (2024.5.15)\n",
            "Requirement already satisfied: tqdm in /usr/local/lib/python3.10/dist-packages (from nltk) (4.66.5)\n"
          ]
        }
      ]
    },
    {
      "cell_type": "code",
      "source": [
        "import nltk\n",
        "import pandas as pd\n",
        "nltk.download('punkt')"
      ],
      "metadata": {
        "colab": {
          "base_uri": "https://localhost:8080/"
        },
        "id": "Z1ZEp1kFXPpw",
        "outputId": "523958bf-f603-4dd6-b7bc-aaca7584d48f"
      },
      "execution_count": 13,
      "outputs": [
        {
          "output_type": "stream",
          "name": "stderr",
          "text": [
            "[nltk_data] Downloading package punkt to /root/nltk_data...\n",
            "[nltk_data]   Unzipping tokenizers/punkt.zip.\n"
          ]
        },
        {
          "output_type": "execute_result",
          "data": {
            "text/plain": [
              "True"
            ]
          },
          "metadata": {},
          "execution_count": 13
        }
      ]
    },
    {
      "cell_type": "code",
      "source": [
        "fake = pd.read_csv('drive/My Drive/Datasets/News Classification/Fake.csv')\n",
        "genuine = pd.read_csv('drive/My Drive/Datasets/News Classification/True.csv')"
      ],
      "metadata": {
        "id": "bx3ZS_4FXTKa"
      },
      "execution_count": 4,
      "outputs": []
    },
    {
      "cell_type": "code",
      "source": [
        "display(fake.info())\n",
        "display(genuine.info())"
      ],
      "metadata": {
        "colab": {
          "base_uri": "https://localhost:8080/",
          "height": 433
        },
        "id": "lC84wSJlXmiB",
        "outputId": "ff8fa00a-06d7-47a6-8a73-56a898189a17"
      },
      "execution_count": 5,
      "outputs": [
        {
          "output_type": "stream",
          "name": "stdout",
          "text": [
            "<class 'pandas.core.frame.DataFrame'>\n",
            "RangeIndex: 23481 entries, 0 to 23480\n",
            "Data columns (total 4 columns):\n",
            " #   Column   Non-Null Count  Dtype \n",
            "---  ------   --------------  ----- \n",
            " 0   title    23481 non-null  object\n",
            " 1   text     23481 non-null  object\n",
            " 2   subject  23481 non-null  object\n",
            " 3   date     23481 non-null  object\n",
            "dtypes: object(4)\n",
            "memory usage: 733.9+ KB\n"
          ]
        },
        {
          "output_type": "display_data",
          "data": {
            "text/plain": [
              "None"
            ]
          },
          "metadata": {}
        },
        {
          "output_type": "stream",
          "name": "stdout",
          "text": [
            "<class 'pandas.core.frame.DataFrame'>\n",
            "RangeIndex: 21417 entries, 0 to 21416\n",
            "Data columns (total 4 columns):\n",
            " #   Column   Non-Null Count  Dtype \n",
            "---  ------   --------------  ----- \n",
            " 0   title    21417 non-null  object\n",
            " 1   text     21417 non-null  object\n",
            " 2   subject  21417 non-null  object\n",
            " 3   date     21417 non-null  object\n",
            "dtypes: object(4)\n",
            "memory usage: 669.4+ KB\n"
          ]
        },
        {
          "output_type": "display_data",
          "data": {
            "text/plain": [
              "None"
            ]
          },
          "metadata": {}
        }
      ]
    },
    {
      "cell_type": "code",
      "source": [
        "display(fake.subject.value_counts())"
      ],
      "metadata": {
        "colab": {
          "base_uri": "https://localhost:8080/",
          "height": 303
        },
        "id": "JMN1l49tXtZU",
        "outputId": "52a5f82b-c372-4208-e18d-9fce36864d4c"
      },
      "execution_count": 6,
      "outputs": [
        {
          "output_type": "display_data",
          "data": {
            "text/plain": [
              "subject\n",
              "News               9050\n",
              "politics           6841\n",
              "left-news          4459\n",
              "Government News    1570\n",
              "US_News             783\n",
              "Middle-east         778\n",
              "Name: count, dtype: int64"
            ],
            "text/html": [
              "<div>\n",
              "<style scoped>\n",
              "    .dataframe tbody tr th:only-of-type {\n",
              "        vertical-align: middle;\n",
              "    }\n",
              "\n",
              "    .dataframe tbody tr th {\n",
              "        vertical-align: top;\n",
              "    }\n",
              "\n",
              "    .dataframe thead th {\n",
              "        text-align: right;\n",
              "    }\n",
              "</style>\n",
              "<table border=\"1\" class=\"dataframe\">\n",
              "  <thead>\n",
              "    <tr style=\"text-align: right;\">\n",
              "      <th></th>\n",
              "      <th>count</th>\n",
              "    </tr>\n",
              "    <tr>\n",
              "      <th>subject</th>\n",
              "      <th></th>\n",
              "    </tr>\n",
              "  </thead>\n",
              "  <tbody>\n",
              "    <tr>\n",
              "      <th>News</th>\n",
              "      <td>9050</td>\n",
              "    </tr>\n",
              "    <tr>\n",
              "      <th>politics</th>\n",
              "      <td>6841</td>\n",
              "    </tr>\n",
              "    <tr>\n",
              "      <th>left-news</th>\n",
              "      <td>4459</td>\n",
              "    </tr>\n",
              "    <tr>\n",
              "      <th>Government News</th>\n",
              "      <td>1570</td>\n",
              "    </tr>\n",
              "    <tr>\n",
              "      <th>US_News</th>\n",
              "      <td>783</td>\n",
              "    </tr>\n",
              "    <tr>\n",
              "      <th>Middle-east</th>\n",
              "      <td>778</td>\n",
              "    </tr>\n",
              "  </tbody>\n",
              "</table>\n",
              "</div><br><label><b>dtype:</b> int64</label>"
            ]
          },
          "metadata": {}
        }
      ]
    },
    {
      "cell_type": "code",
      "source": [
        "fake['target'] = 0\n",
        "genuine['target'] = 1"
      ],
      "metadata": {
        "id": "uD4Lq2liX2ZZ"
      },
      "execution_count": 7,
      "outputs": []
    },
    {
      "cell_type": "code",
      "source": [
        "data = pd.concat([fake,genuine],axis=0)\n",
        "data = data.reset_index(drop=True)\n",
        "data = data.drop(['subject','date','title'],axis=1)\n",
        "print(data.columns)"
      ],
      "metadata": {
        "colab": {
          "base_uri": "https://localhost:8080/"
        },
        "id": "pO4RH0Q_X-F1",
        "outputId": "dd045bba-c100-4907-c2fe-098d2231ff3a"
      },
      "execution_count": 10,
      "outputs": [
        {
          "output_type": "stream",
          "name": "stdout",
          "text": [
            "Index(['text', 'target'], dtype='object')\n"
          ]
        }
      ]
    },
    {
      "cell_type": "code",
      "source": [
        "# Tokenization\n",
        "from nltk.tokenize import word_tokenize"
      ],
      "metadata": {
        "id": "LEu8v_WjYX5A"
      },
      "execution_count": 11,
      "outputs": []
    },
    {
      "cell_type": "code",
      "source": [
        "data['text'] = data['text'].apply(word_tokenize)\n",
        "print(data.head(10))"
      ],
      "metadata": {
        "colab": {
          "base_uri": "https://localhost:8080/"
        },
        "id": "2XQjnUWHYecd",
        "outputId": "c5adbf12-8a3f-4dc0-ab68-4380170ec6bc"
      },
      "execution_count": 14,
      "outputs": [
        {
          "output_type": "stream",
          "name": "stdout",
          "text": [
            "                                                text  target\n",
            "0  [Donald, Trump, just, couldn, t, wish, all, Am...       0\n",
            "1  [House, Intelligence, Committee, Chairman, Dev...       0\n",
            "2  [On, Friday, ,, it, was, revealed, that, forme...       0\n",
            "3  [On, Christmas, day, ,, Donald, Trump, announc...       0\n",
            "4  [Pope, Francis, used, his, annual, Christmas, ...       0\n",
            "5  [The, number, of, cases, of, cops, brutalizing...       0\n",
            "6  [Donald, Trump, spent, a, good, portion, of, h...       0\n",
            "7  [In, the, wake, of, yet, another, court, decis...       0\n",
            "8  [Many, people, have, raised, the, alarm, regar...       0\n",
            "9  [Just, when, you, might, have, thought, we, d,...       0\n"
          ]
        }
      ]
    },
    {
      "cell_type": "code",
      "source": [
        "# Stemming\n",
        "from nltk.stem.snowball import SnowballStemmer\n",
        "porter = SnowballStemmer(\"english\", ignore_stopwords=False)\n",
        "def stem_it(text):\n",
        "  return [porter.stem(word) for word in text]\n",
        "data['text'] = data['text'].apply(stem_it)\n",
        "print(data.head(10))"
      ],
      "metadata": {
        "colab": {
          "base_uri": "https://localhost:8080/"
        },
        "id": "HX8bzxnnYqDO",
        "outputId": "842b005b-795b-4d87-b88b-17692aee293f"
      },
      "execution_count": 15,
      "outputs": [
        {
          "output_type": "stream",
          "name": "stdout",
          "text": [
            "                                                text  target\n",
            "0  [donald, trump, just, couldn, t, wish, all, am...       0\n",
            "1  [hous, intellig, committe, chairman, devin, nu...       0\n",
            "2  [on, friday, ,, it, was, reveal, that, former,...       0\n",
            "3  [on, christma, day, ,, donald, trump, announc,...       0\n",
            "4  [pope, franci, use, his, annual, christma, day...       0\n",
            "5  [the, number, of, case, of, cop, brutal, and, ...       0\n",
            "6  [donald, trump, spent, a, good, portion, of, h...       0\n",
            "7  [in, the, wake, of, yet, anoth, court, decis, ...       0\n",
            "8  [mani, peopl, have, rais, the, alarm, regard, ...       0\n",
            "9  [just, when, you, might, have, thought, we, d,...       0\n"
          ]
        }
      ]
    },
    {
      "cell_type": "code",
      "source": [
        "# Stopword Removal\n",
        "from nltk.corpus import stopwords\n",
        "def stop_it(t):\n",
        "  dt = [word for word in t if len(word)>2]\n",
        "  return dt\n",
        "\n",
        "data['text'] = data['text'].apply(stop_it)\n",
        "print(data.head(10))"
      ],
      "metadata": {
        "colab": {
          "base_uri": "https://localhost:8080/"
        },
        "id": "zdWhYGz0ZY5K",
        "outputId": "c673f175-2089-4001-ddc6-17d8629e6c14"
      },
      "execution_count": 16,
      "outputs": [
        {
          "output_type": "stream",
          "name": "stdout",
          "text": [
            "                                                text  target\n",
            "0  [donald, trump, just, couldn, wish, all, ameri...       0\n",
            "1  [hous, intellig, committe, chairman, devin, nu...       0\n",
            "2  [friday, was, reveal, that, former, milwauke, ...       0\n",
            "3  [christma, day, donald, trump, announc, that, ...       0\n",
            "4  [pope, franci, use, his, annual, christma, day...       0\n",
            "5  [the, number, case, cop, brutal, and, kill, pe...       0\n",
            "6  [donald, trump, spent, good, portion, his, day...       0\n",
            "7  [the, wake, yet, anoth, court, decis, that, de...       0\n",
            "8  [mani, peopl, have, rais, the, alarm, regard, ...       0\n",
            "9  [just, when, you, might, have, thought, get, b...       0\n"
          ]
        }
      ]
    },
    {
      "cell_type": "code",
      "source": [
        "data['text'] = data['text'].apply(' '.join)"
      ],
      "metadata": {
        "id": "Az7eLe9taW8W"
      },
      "execution_count": 18,
      "outputs": []
    },
    {
      "cell_type": "code",
      "source": [
        "# Splitting\n",
        "from sklearn.model_selection import train_test_split\n",
        "X_train,X_test,y_train,y_test = train_test_split(data['text'], data['target'], test_size=0.25)\n",
        "display(X_train.head())\n",
        "print('\\n')\n",
        "display(y_train.head())"
      ],
      "metadata": {
        "colab": {
          "base_uri": "https://localhost:8080/",
          "height": 499
        },
        "id": "zpJ0270jagkI",
        "outputId": "bbcf0b88-50df-4229-f2b6-040a5ec32269"
      },
      "execution_count": 19,
      "outputs": [
        {
          "output_type": "display_data",
          "data": {
            "text/plain": [
              "81       conserv should shun toni perkin for this.earli...\n",
              "13409    democrat are the parti kkk the problem you kee...\n",
              "18299    while mani the left continu accus presid trump...\n",
              "8243     florida republican senat and presidenti hope m...\n",
              "29573    reuter u.s. presid donald trump address busi a...\n",
              "Name: text, dtype: object"
            ],
            "text/html": [
              "<div>\n",
              "<style scoped>\n",
              "    .dataframe tbody tr th:only-of-type {\n",
              "        vertical-align: middle;\n",
              "    }\n",
              "\n",
              "    .dataframe tbody tr th {\n",
              "        vertical-align: top;\n",
              "    }\n",
              "\n",
              "    .dataframe thead th {\n",
              "        text-align: right;\n",
              "    }\n",
              "</style>\n",
              "<table border=\"1\" class=\"dataframe\">\n",
              "  <thead>\n",
              "    <tr style=\"text-align: right;\">\n",
              "      <th></th>\n",
              "      <th>text</th>\n",
              "    </tr>\n",
              "  </thead>\n",
              "  <tbody>\n",
              "    <tr>\n",
              "      <th>81</th>\n",
              "      <td>conserv should shun toni perkin for this.earli...</td>\n",
              "    </tr>\n",
              "    <tr>\n",
              "      <th>13409</th>\n",
              "      <td>democrat are the parti kkk the problem you kee...</td>\n",
              "    </tr>\n",
              "    <tr>\n",
              "      <th>18299</th>\n",
              "      <td>while mani the left continu accus presid trump...</td>\n",
              "    </tr>\n",
              "    <tr>\n",
              "      <th>8243</th>\n",
              "      <td>florida republican senat and presidenti hope m...</td>\n",
              "    </tr>\n",
              "    <tr>\n",
              "      <th>29573</th>\n",
              "      <td>reuter u.s. presid donald trump address busi a...</td>\n",
              "    </tr>\n",
              "  </tbody>\n",
              "</table>\n",
              "</div><br><label><b>dtype:</b> object</label>"
            ]
          },
          "metadata": {}
        },
        {
          "output_type": "stream",
          "name": "stdout",
          "text": [
            "\n",
            "\n"
          ]
        },
        {
          "output_type": "display_data",
          "data": {
            "text/plain": [
              "81       0\n",
              "13409    0\n",
              "18299    0\n",
              "8243     0\n",
              "29573    1\n",
              "Name: target, dtype: int64"
            ],
            "text/html": [
              "<div>\n",
              "<style scoped>\n",
              "    .dataframe tbody tr th:only-of-type {\n",
              "        vertical-align: middle;\n",
              "    }\n",
              "\n",
              "    .dataframe tbody tr th {\n",
              "        vertical-align: top;\n",
              "    }\n",
              "\n",
              "    .dataframe thead th {\n",
              "        text-align: right;\n",
              "    }\n",
              "</style>\n",
              "<table border=\"1\" class=\"dataframe\">\n",
              "  <thead>\n",
              "    <tr style=\"text-align: right;\">\n",
              "      <th></th>\n",
              "      <th>target</th>\n",
              "    </tr>\n",
              "  </thead>\n",
              "  <tbody>\n",
              "    <tr>\n",
              "      <th>81</th>\n",
              "      <td>0</td>\n",
              "    </tr>\n",
              "    <tr>\n",
              "      <th>13409</th>\n",
              "      <td>0</td>\n",
              "    </tr>\n",
              "    <tr>\n",
              "      <th>18299</th>\n",
              "      <td>0</td>\n",
              "    </tr>\n",
              "    <tr>\n",
              "      <th>8243</th>\n",
              "      <td>0</td>\n",
              "    </tr>\n",
              "    <tr>\n",
              "      <th>29573</th>\n",
              "      <td>1</td>\n",
              "    </tr>\n",
              "  </tbody>\n",
              "</table>\n",
              "</div><br><label><b>dtype:</b> int64</label>"
            ]
          },
          "metadata": {}
        }
      ]
    },
    {
      "cell_type": "code",
      "source": [
        "# Vectorization\n",
        "from sklearn.feature_extraction.text import TfidfVectorizer\n",
        "my_tfid = TfidfVectorizer(max_df = 0.7)\n",
        "\n",
        "tfid_train = my_tfid.fit_transform(X_train)\n",
        "tfid_test = my_tfid.transform(X_test)\n",
        "print(tfid_train)"
      ],
      "metadata": {
        "colab": {
          "base_uri": "https://localhost:8080/"
        },
        "id": "HjyWEYWebSYp",
        "outputId": "6fcf37bf-96f6-4f43-96bc-e36d933d35ef"
      },
      "execution_count": 20,
      "outputs": [
        {
          "output_type": "stream",
          "name": "stdout",
          "text": [
            "  (0, 89145)\t0.060161678421320454\n",
            "  (0, 41041)\t0.023903520703482426\n",
            "  (0, 31412)\t0.025142539314940107\n",
            "  (0, 13353)\t0.050934440497445194\n",
            "  (0, 24707)\t0.04225478710627218\n",
            "  (0, 81483)\t0.015463583698623164\n",
            "  (0, 11755)\t0.06838070350534398\n",
            "  (0, 66133)\t0.04592393898570143\n",
            "  (0, 78132)\t0.02652434776898559\n",
            "  (0, 17751)\t0.018844999068426464\n",
            "  (0, 82362)\t0.020010175344914956\n",
            "  (0, 79213)\t0.03360566814535773\n",
            "  (0, 1604)\t0.03311040660338018\n",
            "  (0, 8273)\t0.03321415657903607\n",
            "  (0, 84231)\t0.020901007956552035\n",
            "  (0, 44889)\t0.020097752348678975\n",
            "  (0, 37598)\t0.02923812027298865\n",
            "  (0, 9019)\t0.017993813800962228\n",
            "  (0, 42876)\t0.03383628668224048\n",
            "  (0, 81524)\t0.02621826758676531\n",
            "  (0, 23843)\t0.048470803014524\n",
            "  (0, 25739)\t0.022525204182349056\n",
            "  (0, 59040)\t0.04380191410869155\n",
            "  (0, 81314)\t0.0424982624283523\n",
            "  (0, 41761)\t0.030611217689205078\n",
            "  :\t:\n",
            "  (33672, 41041)\t0.03129743584347629\n",
            "  (33672, 81483)\t0.020246829942811566\n",
            "  (33672, 82362)\t0.02619978817526022\n",
            "  (33672, 13456)\t0.027587052908055743\n",
            "  (33672, 7322)\t0.08346454128172126\n",
            "  (33672, 46898)\t0.054095319103192624\n",
            "  (33672, 69378)\t0.025958329147681244\n",
            "  (33672, 10719)\t0.03788025767730534\n",
            "  (33672, 89012)\t0.0750480335364875\n",
            "  (33672, 91089)\t0.02579632678669918\n",
            "  (33672, 32862)\t0.048229979623681356\n",
            "  (33672, 33421)\t0.05279273018834672\n",
            "  (33672, 59260)\t0.03469823307361722\n",
            "  (33672, 89195)\t0.021345743982075078\n",
            "  (33672, 55692)\t0.022187232583061132\n",
            "  (33672, 61356)\t0.0548249647427039\n",
            "  (33672, 81339)\t0.0638931775268415\n",
            "  (33672, 61375)\t0.04575693282483104\n",
            "  (33672, 60686)\t0.044804485078536245\n",
            "  (33672, 39026)\t0.027937299866537604\n",
            "  (33672, 39116)\t0.019097539461701268\n",
            "  (33672, 72142)\t0.03722064092563819\n",
            "  (33672, 69309)\t0.0575388236968762\n",
            "  (33672, 88441)\t0.028987095455212268\n",
            "  (33672, 81566)\t0.018123158142113637\n"
          ]
        }
      ]
    },
    {
      "cell_type": "code",
      "source": [
        "# Logistic Regression\n",
        "from sklearn.linear_model import LogisticRegression\n",
        "from sklearn.tree import DecisionTreeClassifier\n",
        "from sklearn.metrics import accuracy_score"
      ],
      "metadata": {
        "id": "3qq5HtKLbyko"
      },
      "execution_count": 21,
      "outputs": []
    },
    {
      "cell_type": "code",
      "source": [
        "model_1 = LogisticRegression(max_iter=900)\n",
        "model_1.fit(tfid_train,y_train)\n",
        "pred_1 = model_1.predict(tfid_test)\n",
        "cr1 = accuracy_score(y_test,pred_1)\n",
        "print(cr1*100)"
      ],
      "metadata": {
        "colab": {
          "base_uri": "https://localhost:8080/"
        },
        "id": "qoVd0RmWcG4L",
        "outputId": "d1cbe6c8-70a2-4ca1-893e-cf06ec571545"
      },
      "execution_count": 22,
      "outputs": [
        {
          "output_type": "stream",
          "name": "stdout",
          "text": [
            "98.79732739420936\n"
          ]
        }
      ]
    },
    {
      "cell_type": "code",
      "source": [
        "# Passive Agressive Classifier\n",
        "from sklearn.linear_model import PassiveAggressiveClassifier\n",
        "\n",
        "model = PassiveAggressiveClassifier(max_iter=50)\n",
        "model.fit(tfid_train,y_train)\n",
        "pred_2 = model.predict(tfid_test)\n",
        "cr2 = accuracy_score(y_test,pred_2)\n",
        "print(cr2*100)"
      ],
      "metadata": {
        "colab": {
          "base_uri": "https://localhost:8080/"
        },
        "id": "G__n2PHUce3y",
        "outputId": "de00cc7f-5cff-4c7b-ee25-5eee6fcf39e8"
      },
      "execution_count": 23,
      "outputs": [
        {
          "output_type": "stream",
          "name": "stdout",
          "text": [
            "99.61692650334075\n"
          ]
        }
      ]
    },
    {
      "cell_type": "code",
      "source": [
        "# Decision Tree\n",
        "\n",
        "clf = DecisionTreeClassifier()\n",
        "clf.fit(tfid_train,y_train)\n",
        "pred_3 = clf.predict(tfid_test)\n",
        "cr3 = accuracy_score(y_test,pred_3)\n",
        "print(cr3*100)"
      ],
      "metadata": {
        "colab": {
          "base_uri": "https://localhost:8080/"
        },
        "id": "Jpng7KBCmbNb",
        "outputId": "153680b8-26d2-47c1-df2c-555b3820d5f5"
      },
      "execution_count": 33,
      "outputs": [
        {
          "output_type": "stream",
          "name": "stdout",
          "text": [
            "99.66146993318486\n"
          ]
        }
      ]
    },
    {
      "cell_type": "code",
      "source": [
        "from sklearn.metrics import confusion_matrix, classification_report, roc_auc_score\n",
        "import seaborn as sns\n",
        "import matplotlib.pyplot as plt\n",
        "\n",
        "mat1 = confusion_matrix(y_test, pred_1)\n",
        "sns.heatmap(mat1.T, square=True, annot=True, fmt='d', cbar=False)\n",
        "plt.xlabel('true label')\n",
        "plt.ylabel('predicted label')\n",
        "print(classification_report(y_test,pred_1))"
      ],
      "metadata": {
        "colab": {
          "base_uri": "https://localhost:8080/",
          "height": 605
        },
        "id": "jwIgHHYodHQ2",
        "outputId": "cb2fdedd-fe6d-44c5-fdb8-6e31004f7b29"
      },
      "execution_count": 27,
      "outputs": [
        {
          "output_type": "stream",
          "name": "stdout",
          "text": [
            "              precision    recall  f1-score   support\n",
            "\n",
            "           0       0.99      0.99      0.99      5874\n",
            "           1       0.99      0.99      0.99      5351\n",
            "\n",
            "    accuracy                           0.99     11225\n",
            "   macro avg       0.99      0.99      0.99     11225\n",
            "weighted avg       0.99      0.99      0.99     11225\n",
            "\n"
          ]
        },
        {
          "output_type": "display_data",
          "data": {
            "text/plain": [
              "<Figure size 640x480 with 1 Axes>"
            ],
            "image/png": "[encoded data removed]"
          },
          "metadata": {}
        }
      ]
    },
    {
      "cell_type": "code",
      "source": [
        "mat2 = confusion_matrix(y_test, pred_2)\n",
        "sns.heatmap(mat2.T, square=True, annot=True, fmt='d', cbar=False)\n",
        "plt.xlabel('true label')\n",
        "plt.ylabel('predicted label')\n",
        "print(classification_report(y_test,pred_2))"
      ],
      "metadata": {
        "colab": {
          "base_uri": "https://localhost:8080/",
          "height": 605
        },
        "id": "X2JSbAu-jFjN",
        "outputId": "277a0172-e09a-4c03-e9f6-c012abfa512e"
      },
      "execution_count": 28,
      "outputs": [
        {
          "output_type": "stream",
          "name": "stdout",
          "text": [
            "              precision    recall  f1-score   support\n",
            "\n",
            "           0       1.00      1.00      1.00      5874\n",
            "           1       1.00      1.00      1.00      5351\n",
            "\n",
            "    accuracy                           1.00     11225\n",
            "   macro avg       1.00      1.00      1.00     11225\n",
            "weighted avg       1.00      1.00      1.00     11225\n",
            "\n"
          ]
        },
        {
          "output_type": "display_data",
          "data": {
            "text/plain": [
              "<Figure size 640x480 with 1 Axes>"
            ],
            "image/png": "[encoded data removed]"
          },
          "metadata": {}
        }
      ]
    },
    {
      "cell_type": "code",
      "source": [
        "mat3 = confusion_matrix(y_test, pred_3)\n",
        "sns.heatmap(mat3.T, square=True, annot=True, fmt='d', cbar=False)\n",
        "plt.xlabel('true label')\n",
        "plt.ylabel('predicted label')\n",
        "print(classification_report(y_test,pred_3))"
      ],
      "metadata": {
        "colab": {
          "base_uri": "https://localhost:8080/",
          "height": 605
        },
        "id": "HNv1FkpOhzFy",
        "outputId": "d9d104f9-9dbf-40af-b395-96ce999ca62b"
      },
      "execution_count": 34,
      "outputs": [
        {
          "output_type": "stream",
          "name": "stdout",
          "text": [
            "              precision    recall  f1-score   support\n",
            "\n",
            "           0       1.00      1.00      1.00      5874\n",
            "           1       1.00      1.00      1.00      5351\n",
            "\n",
            "    accuracy                           1.00     11225\n",
            "   macro avg       1.00      1.00      1.00     11225\n",
            "weighted avg       1.00      1.00      1.00     11225\n",
            "\n"
          ]
        },
        {
          "output_type": "display_data",
          "data": {
            "text/plain": [
              "<Figure size 640x480 with 1 Axes>"
            ],
            "image/png": "[encoded data removed]"
          },
          "metadata": {}
        }
      ]
    },
    {
      "cell_type": "code",
      "source": [],
      "metadata": {
        "id": "xAZJdwmjnM0x"
      },
      "execution_count": null,
      "outputs": []
    }
  ]
}